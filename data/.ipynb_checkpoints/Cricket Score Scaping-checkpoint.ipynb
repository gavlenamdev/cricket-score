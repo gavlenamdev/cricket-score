{
 "cells": [
  {
   "cell_type": "code",
   "execution_count": 1,
   "metadata": {},
   "outputs": [
    {
     "data": {
      "text/plain": [
       "'\\npatterns\\nIND1/8 (1.0 Ovs)\\nIND9/10 (50.0 Ovs)\\nIND252/8 (50.0 Ovs)\\nIND252-all out (49.5 Ovs)\\n\\nreg ex\\n\\nIND        3 characters (must)                  \\\\w\\\\w\\\\w\\nscore      can be 1 digit / 2 digit / 3 digit   \\\\d or \\\\d\\\\d or \\\\d\\\\d\\\\d\\nseparator  can be / or -                        \\\\/ or \\\\-\\n\\n#section 1\\nwicket     can be 1 or 2 digits                 \\\\d or \\\\d\\\\d\\n\\n#section 2\\nall out                                         all out\\n\\nspace      space                                \\\\s\\n(                                               \\\\(\\nover       can be 1 or 2 digit                   \\\\d or \\\\d\\\\d\\nballs      can be 0 to 5. i.e single digit      \\\\d\\nOvs                                             Ovs\\n'"
      ]
     },
     "execution_count": 1,
     "metadata": {},
     "output_type": "execute_result"
    }
   ],
   "source": [
    "'''\n",
    "patterns\n",
    "IND1/8 (1.0 Ovs)\n",
    "IND9/10 (50.0 Ovs)\n",
    "IND252/8 (50.0 Ovs)\n",
    "IND252-all out (49.5 Ovs)\n",
    "\n",
    "reg ex\n",
    "\n",
    "IND        3 characters (must)                  \\w\\w\\w\n",
    "score      can be 1 digit / 2 digit / 3 digit   \\d or \\d\\d or \\d\\d\\d\n",
    "separator  can be / or -                        \\/ or \\-\n",
    "\n",
    "#section 1\n",
    "wicket     can be 1 or 2 digits                 \\d or \\d\\d\n",
    "\n",
    "#section 2\n",
    "all out                                         all out\n",
    "\n",
    "space      space                                \\s\n",
    "(                                               \\(\n",
    "over       can be 1 or 2 digit                   \\d or \\d\\d\n",
    "balls      can be 0 to 5. i.e single digit      \\d\n",
    "Ovs                                             Ovs\n",
    "'''"
   ]
  },
  {
   "cell_type": "code",
   "execution_count": 2,
   "metadata": {},
   "outputs": [],
   "source": [
    "import requests\n",
    "from bs4 import BeautifulSoup\n",
    "import re"
   ]
  },
  {
   "cell_type": "code",
   "execution_count": 3,
   "metadata": {},
   "outputs": [],
   "source": [
    "res = requests.get(\"https://www.cricbuzz.com/\")"
   ]
  },
  {
   "cell_type": "code",
   "execution_count": 4,
   "metadata": {},
   "outputs": [],
   "source": [
    "soup = BeautifulSoup(res.text,\"html.parser\")"
   ]
  },
  {
   "cell_type": "code",
   "execution_count": 5,
   "metadata": {},
   "outputs": [],
   "source": [
    "body = soup.find(\"body\")"
   ]
  },
  {
   "cell_type": "code",
   "execution_count": 6,
   "metadata": {},
   "outputs": [],
   "source": [
    "text = body.get_text()"
   ]
  },
  {
   "cell_type": "code",
   "execution_count": 7,
   "metadata": {},
   "outputs": [],
   "source": [
    "output = set()"
   ]
  },
  {
   "cell_type": "code",
   "execution_count": 8,
   "metadata": {},
   "outputs": [
    {
     "name": "stdout",
     "output_type": "stream",
     "text": [
      "PAK202/9 (50.0 Ovs)\n",
      "TIT104/3 (35.0 Ovs)\n",
      "PAK202/9 (50.0 Ovs)\n",
      "PAK202/9 (50.0 Ovs)\n",
      "TIT104/3 (35.0 Ovs)\n",
      "TAS238/7 (49.0 Ovs)\n",
      "AUS236/7 (50.0 Ovs)\n"
     ]
    }
   ],
   "source": [
    "for obj in re.findall(\"[A-Z]{3}\\d{1,3}[\\/\\-]\\d{1,2}\\s\\(\\d{1,2}\\.\\d Ovs\\)\",text):\n",
    "    print(obj)\n",
    "    output.add(obj)"
   ]
  },
  {
   "cell_type": "code",
   "execution_count": 9,
   "metadata": {},
   "outputs": [
    {
     "data": {
      "text/plain": [
       "{'AUS236/7 (50.0 Ovs)',\n",
       " 'PAK202/9 (50.0 Ovs)',\n",
       " 'TAS238/7 (49.0 Ovs)',\n",
       " 'TIT104/3 (35.0 Ovs)'}"
      ]
     },
     "execution_count": 9,
     "metadata": {},
     "output_type": "execute_result"
    }
   ],
   "source": [
    "output"
   ]
  },
  {
   "cell_type": "code",
   "execution_count": 10,
   "metadata": {},
   "outputs": [],
   "source": [
    "for obj in re.findall(\"[A-Z]{3}\\d{1,3}[\\/\\-][a-z]{3}\\s[a-z]{3}\\s\\(\\d{1,2}\\.\\d Ovs\\)\",text):\n",
    "    print(obj)\n",
    "    output.add(obj)"
   ]
  },
  {
   "cell_type": "code",
   "execution_count": 11,
   "metadata": {},
   "outputs": [
    {
     "data": {
      "text/plain": [
       "{'AUS236/7 (50.0 Ovs)',\n",
       " 'PAK202/9 (50.0 Ovs)',\n",
       " 'TAS238/7 (49.0 Ovs)',\n",
       " 'TIT104/3 (35.0 Ovs)'}"
      ]
     },
     "execution_count": 11,
     "metadata": {},
     "output_type": "execute_result"
    }
   ],
   "source": [
    "output"
   ]
  },
  {
   "cell_type": "code",
   "execution_count": 12,
   "metadata": {},
   "outputs": [],
   "source": [
    "#combine two patterns"
   ]
  },
  {
   "cell_type": "code",
   "execution_count": 14,
   "metadata": {},
   "outputs": [],
   "source": [
    "# set to string\n",
    "final = \"\"\n",
    "for s in output:\n",
    "    final += s + \"\\n\""
   ]
  },
  {
   "cell_type": "code",
   "execution_count": 15,
   "metadata": {},
   "outputs": [
    {
     "data": {
      "text/plain": [
       "'PAK202/9 (50.0 Ovs)\\nAUS236/7 (50.0 Ovs)\\nTIT104/3 (35.0 Ovs)\\nTAS238/7 (49.0 Ovs)\\n'"
      ]
     },
     "execution_count": 15,
     "metadata": {},
     "output_type": "execute_result"
    }
   ],
   "source": [
    "final"
   ]
  },
  {
   "cell_type": "code",
   "execution_count": 16,
   "metadata": {},
   "outputs": [
    {
     "name": "stdout",
     "output_type": "stream",
     "text": [
      "PAK202/9 (50.0 Ovs)\n",
      "AUS236/7 (50.0 Ovs)\n",
      "TIT104/3 (35.0 Ovs)\n",
      "TAS238/7 (49.0 Ovs)\n",
      "\n"
     ]
    }
   ],
   "source": [
    "print(final)"
   ]
  }
 ],
 "metadata": {
  "kernelspec": {
   "display_name": "Python 3",
   "language": "python",
   "name": "python3"
  },
  "language_info": {
   "codemirror_mode": {
    "name": "ipython",
    "version": 3
   },
   "file_extension": ".py",
   "mimetype": "text/x-python",
   "name": "python",
   "nbconvert_exporter": "python",
   "pygments_lexer": "ipython3",
   "version": "3.5.2"
  }
 },
 "nbformat": 4,
 "nbformat_minor": 2
}
